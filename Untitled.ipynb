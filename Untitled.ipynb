{
 "cells": [
  {
   "cell_type": "code",
   "execution_count": 1,
   "id": "6b0bac01",
   "metadata": {
    "ExecuteTime": {
     "end_time": "2021-08-19T10:54:17.865522Z",
     "start_time": "2021-08-19T10:54:17.528203Z"
    }
   },
   "outputs": [],
   "source": [
    "import pandas as pd\n"
   ]
  },
  {
   "cell_type": "code",
   "execution_count": 17,
   "id": "22e2775d",
   "metadata": {
    "ExecuteTime": {
     "end_time": "2021-08-19T11:03:53.378483Z",
     "start_time": "2021-08-19T11:03:53.373370Z"
    }
   },
   "outputs": [],
   "source": [
    "dico={\"key\":\"2013-07-06 17:18:00.000000119\",\"pickup_datetime\":\"2013-07-06 17:18:00 UTC\",\"pickup_longitude\":-73.950655,\"pickup_latitude\":40.783282,\"dropoff_longitude\":-73.984365,\"dropoff_latitude\":40.769802,\"passenger_count\":1}\n",
    "\n"
   ]
  },
  {
   "cell_type": "code",
   "execution_count": 8,
   "id": "20bc2284",
   "metadata": {
    "ExecuteTime": {
     "end_time": "2021-08-19T10:57:04.321979Z",
     "start_time": "2021-08-19T10:57:04.305045Z"
    }
   },
   "outputs": [
    {
     "data": {
      "text/plain": [
       "dict"
      ]
     },
     "execution_count": 8,
     "metadata": {},
     "output_type": "execute_result"
    }
   ],
   "source": [
    "type(dico)"
   ]
  },
  {
   "cell_type": "code",
   "execution_count": 9,
   "id": "277a41dd",
   "metadata": {
    "ExecuteTime": {
     "end_time": "2021-08-19T10:57:20.637904Z",
     "start_time": "2021-08-19T10:57:20.632102Z"
    }
   },
   "outputs": [
    {
     "data": {
      "text/plain": [
       "{'pickup_datetime': '2013-07-06 17:18:00 UTC',\n",
       " 'pickup_longitude': -73.950655,\n",
       " 'pickup_latitude': 40.783282,\n",
       " 'dropoff_longitude': -73.984365,\n",
       " 'dropoff_latitude': 40.769802,\n",
       " 'passenger_count': 1}"
      ]
     },
     "execution_count": 9,
     "metadata": {},
     "output_type": "execute_result"
    }
   ],
   "source": [
    "dico\n"
   ]
  },
  {
   "cell_type": "code",
   "execution_count": 18,
   "id": "57f70bdb",
   "metadata": {
    "ExecuteTime": {
     "end_time": "2021-08-19T11:03:56.224728Z",
     "start_time": "2021-08-19T11:03:56.206566Z"
    }
   },
   "outputs": [
    {
     "data": {
      "text/html": [
       "<div>\n",
       "<style scoped>\n",
       "    .dataframe tbody tr th:only-of-type {\n",
       "        vertical-align: middle;\n",
       "    }\n",
       "\n",
       "    .dataframe tbody tr th {\n",
       "        vertical-align: top;\n",
       "    }\n",
       "\n",
       "    .dataframe thead th {\n",
       "        text-align: right;\n",
       "    }\n",
       "</style>\n",
       "<table border=\"1\" class=\"dataframe\">\n",
       "  <thead>\n",
       "    <tr style=\"text-align: right;\">\n",
       "      <th></th>\n",
       "      <th>key</th>\n",
       "      <th>pickup_datetime</th>\n",
       "      <th>pickup_longitude</th>\n",
       "      <th>pickup_latitude</th>\n",
       "      <th>dropoff_longitude</th>\n",
       "      <th>dropoff_latitude</th>\n",
       "      <th>passenger_count</th>\n",
       "    </tr>\n",
       "  </thead>\n",
       "  <tbody>\n",
       "    <tr>\n",
       "      <th>0</th>\n",
       "      <td>2013-07-06 17:18:00.000000119</td>\n",
       "      <td>2013-07-06 17:18:00 UTC</td>\n",
       "      <td>-73.950655</td>\n",
       "      <td>40.783282</td>\n",
       "      <td>-73.984365</td>\n",
       "      <td>40.769802</td>\n",
       "      <td>1</td>\n",
       "    </tr>\n",
       "  </tbody>\n",
       "</table>\n",
       "</div>"
      ],
      "text/plain": [
       "                             key          pickup_datetime  pickup_longitude  \\\n",
       "0  2013-07-06 17:18:00.000000119  2013-07-06 17:18:00 UTC        -73.950655   \n",
       "\n",
       "   pickup_latitude  dropoff_longitude  dropoff_latitude  passenger_count  \n",
       "0        40.783282         -73.984365         40.769802                1  "
      ]
     },
     "execution_count": 18,
     "metadata": {},
     "output_type": "execute_result"
    }
   ],
   "source": [
    "X_test=pd.DataFrame(dico, index=[0])\n",
    "X_test"
   ]
  },
  {
   "cell_type": "code",
   "execution_count": 19,
   "id": "e7c531c5",
   "metadata": {
    "ExecuteTime": {
     "end_time": "2021-08-19T11:03:59.064087Z",
     "start_time": "2021-08-19T11:03:59.060649Z"
    }
   },
   "outputs": [],
   "source": [
    "import joblib\n"
   ]
  },
  {
   "cell_type": "code",
   "execution_count": 20,
   "id": "93cf5ec3",
   "metadata": {
    "ExecuteTime": {
     "end_time": "2021-08-19T11:03:59.554490Z",
     "start_time": "2021-08-19T11:03:59.392778Z"
    }
   },
   "outputs": [
    {
     "name": "stdout",
     "output_type": "stream",
     "text": [
      "MANIFEST.in            Untitled.ipynb         predict.py\r\n",
      "Makefile               \u001b[1m\u001b[36mapi\u001b[m\u001b[m                    requirements.txt\r\n",
      "\u001b[1m\u001b[36mTaxiFareModel\u001b[m\u001b[m          model.joblib           setup.py\r\n",
      "\u001b[1m\u001b[36mTaxiFareModel.egg-info\u001b[m\u001b[m \u001b[1m\u001b[36mnotebooks\u001b[m\u001b[m\r\n"
     ]
    }
   ],
   "source": [
    "! ls\n"
   ]
  },
  {
   "cell_type": "code",
   "execution_count": null,
   "id": "da8bdcd4",
   "metadata": {},
   "outputs": [],
   "source": []
  },
  {
   "cell_type": "code",
   "execution_count": 21,
   "id": "5072011c",
   "metadata": {
    "ExecuteTime": {
     "end_time": "2021-08-19T11:04:00.494427Z",
     "start_time": "2021-08-19T11:04:00.411229Z"
    }
   },
   "outputs": [],
   "source": [
    "    pipeline = joblib.load('model.joblib')\n",
    "    #X_test.reindex('keys')\n",
    "    pred = pipeline.predict(X_test)"
   ]
  },
  {
   "cell_type": "code",
   "execution_count": 22,
   "id": "ca6ba3ec",
   "metadata": {
    "ExecuteTime": {
     "end_time": "2021-08-19T11:04:04.811359Z",
     "start_time": "2021-08-19T11:04:04.804105Z"
    }
   },
   "outputs": [
    {
     "data": {
      "text/plain": [
       "array([13.02116485])"
      ]
     },
     "execution_count": 22,
     "metadata": {},
     "output_type": "execute_result"
    }
   ],
   "source": [
    "pred"
   ]
  },
  {
   "cell_type": "code",
   "execution_count": 25,
   "id": "deaad38b",
   "metadata": {
    "ExecuteTime": {
     "end_time": "2021-08-19T11:05:19.309380Z",
     "start_time": "2021-08-19T11:05:19.304952Z"
    }
   },
   "outputs": [],
   "source": [
    "output={'prediction' : round(pred[0],2)}\n"
   ]
  },
  {
   "cell_type": "code",
   "execution_count": 26,
   "id": "f77c6739",
   "metadata": {
    "ExecuteTime": {
     "end_time": "2021-08-19T11:05:23.377209Z",
     "start_time": "2021-08-19T11:05:23.371631Z"
    }
   },
   "outputs": [
    {
     "data": {
      "text/plain": [
       "{'prediction': 13.02}"
      ]
     },
     "execution_count": 26,
     "metadata": {},
     "output_type": "execute_result"
    }
   ],
   "source": [
    "output"
   ]
  },
  {
   "cell_type": "code",
   "execution_count": null,
   "id": "d619698e",
   "metadata": {},
   "outputs": [],
   "source": []
  }
 ],
 "metadata": {
  "kernelspec": {
   "display_name": "Python 3 (ipykernel)",
   "language": "python",
   "name": "python3"
  },
  "language_info": {
   "codemirror_mode": {
    "name": "ipython",
    "version": 3
   },
   "file_extension": ".py",
   "mimetype": "text/x-python",
   "name": "python",
   "nbconvert_exporter": "python",
   "pygments_lexer": "ipython3",
   "version": "3.7.11"
  },
  "toc": {
   "base_numbering": 1,
   "nav_menu": {},
   "number_sections": true,
   "sideBar": true,
   "skip_h1_title": false,
   "title_cell": "Table of Contents",
   "title_sidebar": "Contents",
   "toc_cell": false,
   "toc_position": {},
   "toc_section_display": true,
   "toc_window_display": false
  }
 },
 "nbformat": 4,
 "nbformat_minor": 5
}
